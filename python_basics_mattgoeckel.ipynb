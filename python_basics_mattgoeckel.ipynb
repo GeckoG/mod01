{
 "cells": [
  {
   "cell_type": "code",
   "execution_count": 5,
   "id": "a7ed0873-f4ec-486b-839b-7b45c7a9303a",
   "metadata": {
    "tags": []
   },
   "outputs": [
    {
     "name": "stdout",
     "output_type": "stream",
     "text": [
      "Minimum is 2\n",
      "Maximum is 8\n",
      "The Sum is 15\n",
      "The Range is 2 to 8\n"
     ]
    }
   ],
   "source": [
    "number1 = 2\n",
    "number2 = 5\n",
    "number3 = 8\n",
    "\n",
    "minimum = min(number1, number2, number3)\n",
    "maximum = max(number1, number2, number3)\n",
    "\n",
    "print(\"Minimum is \" + str(minimum))\n",
    "print(\"Maximum is \" + str(maximum))\n",
    "\n",
    "sumNumbers = sum([number1, number2, number3])\n",
    "print(\"The Sum is \" + str(sumNumbers))\n",
    "print(\"The Range is \" + str(minimum) + \" to \" + str(maximum))"
   ]
  },
  {
   "cell_type": "code",
   "execution_count": null,
   "id": "3bafdf2b-bca5-4495-8c49-81d3c0c03453",
   "metadata": {
    "tags": []
   },
   "outputs": [],
   "source": []
  }
 ],
 "metadata": {
  "kernelspec": {
   "display_name": "Python 3 (ipykernel)",
   "language": "python",
   "name": "python3"
  },
  "language_info": {
   "codemirror_mode": {
    "name": "ipython",
    "version": 3
   },
   "file_extension": ".py",
   "mimetype": "text/x-python",
   "name": "python",
   "nbconvert_exporter": "python",
   "pygments_lexer": "ipython3",
   "version": "3.9.12"
  }
 },
 "nbformat": 4,
 "nbformat_minor": 5
}
