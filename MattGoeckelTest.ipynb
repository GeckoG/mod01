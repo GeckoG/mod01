{
 "cells": [
  {
   "cell_type": "code",
   "execution_count": null,
   "id": "e945d924-1968-4353-8a23-d0ee24284a40",
   "metadata": {},
   "outputs": [],
   "source": [
    "45 + 72"
   ]
  },
  {
   "cell_type": "code",
   "execution_count": null,
   "id": "d6086ecf-53fa-4f6c-9d99-4ec1521d5bf0",
   "metadata": {},
   "outputs": [],
   "source": [
    "5 * (12.7 - 4) / 2"
   ]
  }
 ],
 "metadata": {
  "kernelspec": {
   "display_name": "Python 3 (ipykernel)",
   "language": "python",
   "name": "python3"
  },
  "language_info": {
   "codemirror_mode": {
    "name": "ipython",
    "version": 3
   },
   "file_extension": ".py",
   "mimetype": "text/x-python",
   "name": "python",
   "nbconvert_exporter": "python",
   "pygments_lexer": "ipython3",
   "version": "3.9.12"
  }
 },
 "nbformat": 4,
 "nbformat_minor": 5
}
